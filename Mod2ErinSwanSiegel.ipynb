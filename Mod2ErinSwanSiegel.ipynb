{
 "cells": [
  {
   "cell_type": "code",
   "execution_count": 1,
   "id": "8fa629cb-f702-4141-8c1c-aaaa1beb6427",
   "metadata": {},
   "outputs": [],
   "source": [
    "values = [47,95,88,73,88,84]"
   ]
  },
  {
   "cell_type": "code",
   "execution_count": 2,
   "id": "9a8b8038-201f-4f8c-9037-1e11862980fa",
   "metadata": {},
   "outputs": [
    {
     "data": {
      "text/plain": [
       "6"
      ]
     },
     "execution_count": 2,
     "metadata": {},
     "output_type": "execute_result"
    }
   ],
   "source": [
    "len(values)"
   ]
  },
  {
   "cell_type": "code",
   "execution_count": 3,
   "id": "4b9c7958-b3fb-4d9d-a751-f0f8046c0452",
   "metadata": {},
   "outputs": [
    {
     "data": {
      "text/plain": [
       "475"
      ]
     },
     "execution_count": 3,
     "metadata": {},
     "output_type": "execute_result"
    }
   ],
   "source": [
    "sum(values)"
   ]
  },
  {
   "cell_type": "code",
   "execution_count": 4,
   "id": "7834e379-229b-49d5-87d3-cedd269d5550",
   "metadata": {},
   "outputs": [
    {
     "data": {
      "text/plain": [
       "79.16666666666667"
      ]
     },
     "execution_count": 4,
     "metadata": {},
     "output_type": "execute_result"
    }
   ],
   "source": [
    "sum(values) / len(values)"
   ]
  },
  {
   "cell_type": "code",
   "execution_count": 5,
   "id": "108bb195-caef-4203-bcee-5196f0e27f60",
   "metadata": {},
   "outputs": [],
   "source": [
    "import statistics"
   ]
  },
  {
   "cell_type": "code",
   "execution_count": 6,
   "id": "7e74e8b7-152f-4dcd-bbb1-659c1d7c86ad",
   "metadata": {},
   "outputs": [
    {
     "data": {
      "text/plain": [
       "79.16666666666667"
      ]
     },
     "execution_count": 6,
     "metadata": {},
     "output_type": "execute_result"
    }
   ],
   "source": [
    "statistics.mean(values)"
   ]
  },
  {
   "cell_type": "code",
   "execution_count": 7,
   "id": "e3064451-031f-44f3-bdd3-e191517cd178",
   "metadata": {},
   "outputs": [
    {
     "data": {
      "text/plain": [
       "88"
      ]
     },
     "execution_count": 7,
     "metadata": {},
     "output_type": "execute_result"
    }
   ],
   "source": [
    "statistics.mode(values)"
   ]
  },
  {
   "cell_type": "code",
   "execution_count": 8,
   "id": "142b113d-38c4-4292-94d3-67e0d3038db9",
   "metadata": {},
   "outputs": [
    {
     "data": {
      "text/plain": [
       "86.0"
      ]
     },
     "execution_count": 8,
     "metadata": {},
     "output_type": "execute_result"
    }
   ],
   "source": [
    "statistics.median(values)"
   ]
  },
  {
   "cell_type": "code",
   "execution_count": 9,
   "id": "bf05573e-8abe-4048-b01a-f242b6e1ed92",
   "metadata": {},
   "outputs": [],
   "source": [
    "values2 = [0, 1, 1, 2, 3, 5, 8, 13, 21, 34, 55, 89, 144, 233, 377, 610, 987, 1597, 2584, 4181, 6765]"
   ]
  },
  {
   "cell_type": "code",
   "execution_count": 10,
   "id": "64d96268-30e8-4e2b-97fb-d9f8e566c10f",
   "metadata": {},
   "outputs": [
    {
     "data": {
      "text/plain": [
       "21"
      ]
     },
     "execution_count": 10,
     "metadata": {},
     "output_type": "execute_result"
    }
   ],
   "source": [
    "len(values2)"
   ]
  },
  {
   "cell_type": "code",
   "execution_count": 11,
   "id": "6bae436d-50d1-4956-80ab-de9994d85907",
   "metadata": {},
   "outputs": [
    {
     "data": {
      "text/plain": [
       "17710"
      ]
     },
     "execution_count": 11,
     "metadata": {},
     "output_type": "execute_result"
    }
   ],
   "source": [
    "sum(values2)"
   ]
  },
  {
   "cell_type": "code",
   "execution_count": 12,
   "id": "569344ed-d3b1-4e7e-8dd4-82d7f4dde249",
   "metadata": {},
   "outputs": [
    {
     "data": {
      "text/plain": [
       "843.3333333333334"
      ]
     },
     "execution_count": 12,
     "metadata": {},
     "output_type": "execute_result"
    }
   ],
   "source": [
    "statistics.mean(values2)"
   ]
  },
  {
   "cell_type": "code",
   "execution_count": 13,
   "id": "f24a3f83-04d2-4e9a-95ff-944a29018a5c",
   "metadata": {},
   "outputs": [
    {
     "data": {
      "text/plain": [
       "55"
      ]
     },
     "execution_count": 13,
     "metadata": {},
     "output_type": "execute_result"
    }
   ],
   "source": [
    "statistics.median(values2)"
   ]
  },
  {
   "cell_type": "code",
   "execution_count": 14,
   "id": "c2c69028-3e8a-49e7-bee0-46e70555ee12",
   "metadata": {},
   "outputs": [
    {
     "data": {
      "text/plain": [
       "1"
      ]
     },
     "execution_count": 14,
     "metadata": {},
     "output_type": "execute_result"
    }
   ],
   "source": [
    "statistics.mode(values2)"
   ]
  },
  {
   "cell_type": "code",
   "execution_count": null,
   "id": "1c803984-a11b-4308-8499-33f3400aaed2",
   "metadata": {},
   "outputs": [],
   "source": [
    "Erin Swan-Siegel"
   ]
  }
 ],
 "metadata": {
  "kernelspec": {
   "display_name": "Python 3 (ipykernel)",
   "language": "python",
   "name": "python3"
  },
  "language_info": {
   "codemirror_mode": {
    "name": "ipython",
    "version": 3
   },
   "file_extension": ".py",
   "mimetype": "text/x-python",
   "name": "python",
   "nbconvert_exporter": "python",
   "pygments_lexer": "ipython3",
   "version": "3.9.7"
  }
 },
 "nbformat": 4,
 "nbformat_minor": 5
}
